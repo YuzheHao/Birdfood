{
 "cells": [
  {
   "cell_type": "code",
   "execution_count": 1,
   "metadata": {},
   "outputs": [
    {
     "name": "stdout",
     "output_type": "stream",
     "text": [
      "当前正在处理样本： [2, 3, 1]\n",
      "0.7520895335851834 0.5230937144509751 0.09660834341677649\n",
      "当前正在处理样本： [3, 5, 1]\n",
      "0.7520895335851834 0.5230937144509751 0.09660834341677649\n",
      "当前正在处理样本： [-1, 2, 1]\n",
      "0.7520895335851834 0.5230937144509751 0.09660834341677649\n",
      "当前正在处理样本： [6, 1, -1]\n",
      "0.7520895335851834 0.5230937144509751 0.09660834341677649\n",
      "当前正在处理样本： [2, 3, 1]\n",
      "0.1520895335851833 0.4230937144509751 0.09660834341677649\n",
      "当前正在处理样本： [3, 5, 1]\n",
      "0.1520895335851833 0.4230937144509751 0.09660834341677649\n",
      "当前正在处理样本： [-1, 2, 1]\n",
      "0.1520895335851833 0.4230937144509751 0.09660834341677649\n",
      "当前正在处理样本： [6, 1, -1]\n",
      "0.1520895335851833 0.4230937144509751 0.09660834341677649\n",
      "当前正在处理样本： [2, 3, 1]\n",
      "-0.4479104664148168 0.3230937144509751 0.09660834341677649\n",
      "当前正在处理样本： [3, 5, 1]\n",
      "-0.4479104664148168 0.3230937144509751 0.09660834341677649\n",
      "当前正在处理样本： [-1, 2, 1]\n",
      "-0.4479104664148168 0.3230937144509751 0.09660834341677649\n",
      "当前正在处理样本： [6, 1, -1]\n",
      "-0.4479104664148168 0.3230937144509751 0.09660834341677649\n",
      "当前正在处理样本： [2, -6, -1]\n",
      "-0.4479104664148168 0.3230937144509751 0.09660834341677649\n",
      "最终结果为：\n",
      "-0.4479104664148168 0.3230937144509751 0.09660834341677649\n",
      "测试开始：\n",
      "样本为： [6, 7]\n",
      "label为： 1\n",
      "样本为： [6, 3]\n",
      "label为： 1\n",
      "样本为： [-1, 7]\n",
      "label为： -1\n",
      "样本为： [3, -5]\n",
      "label为： 1\n"
     ]
    }
   ],
   "source": [
    "import numpy as np\n",
    "import random\n",
    "\n",
    "%matplotlib nbagg\n",
    "\n",
    "import numpy as np\n",
    "import matplotlib.pyplot as plt\n",
    "import matplotlib.animation as animation\n",
    "\n",
    "def sp(x):\n",
    "    if x == 1: out = 'o'\n",
    "    else: out = 'x'\n",
    "    return out\n",
    "\n",
    "# 功能：判断第二个数是否大于第一个数，如果第二个数大，label为1，如果第一个数大，label为-1\n",
    "\n",
    "# 给定初始样本值\n",
    "sample = [\n",
    "    [2,3,1],\n",
    "    [3,5,1],\n",
    "    [-1,2,1],\n",
    "    [6,1,-1],\n",
    "    [2,-6,-1]\n",
    "]\n",
    "\n",
    "# 随机化感知器的初始参数\n",
    "w1 = random.random() # 这一行是在生成一个0～1的随机数\n",
    "w2 = random.random()\n",
    "b = random.random()\n",
    "\n",
    "\n",
    "# 学习率/步长值，决定学习的速度\n",
    "lr = 0.1 # 你可以试着把这个数变大一点/变小看看会发生什么\n",
    "\n",
    "# 将样本输入感知器计算\n",
    "i = 0\n",
    "\n",
    "box_current_node = []\n",
    "box_line = []\n",
    "while(i<len(sample)):\n",
    "    print(\"当前正在处理样本：\",sample[i])\n",
    "    box_current_node.append(sample[i])\n",
    "    \n",
    "    print(w1, w2, b)\n",
    "    x1 = sample[i][0]\n",
    "    x2 = sample[i][1]\n",
    "    label = sample[i][2]\n",
    "    # 计算激活后的感知器输出结果\n",
    "    wx = x1*label*w1 + x2*label*w2 + b\n",
    "\n",
    "    if wx <= 0 : # 如果输入样本被错分，则更新权值，然后重新对所有样本进行分类\n",
    "        w1 = w1 - lr * x1\n",
    "        w2 = w2 - lr * x2\n",
    "        i = 0\n",
    "    else:  # 如果输入样本没有被错分，就进行下一个样本样本的分类\n",
    "        i = i + 1\n",
    "    box_line.append([w1,w2,b])\n",
    "\n",
    "\n",
    "print('最终结果为：')\n",
    "print(w1,w2,b)\n",
    "\n",
    "test = [\n",
    "    [6,7],\n",
    "    [6,3],\n",
    "    [-1,7],\n",
    "    [3,-5]\n",
    "]\n",
    "print('测试开始：')\n",
    "for x in test:\n",
    "    y = x[0]*label*w1 + x[1]*label*w2 + b\n",
    "    if y > 0 : y = 1\n",
    "    else: y = -1\n",
    "    print('样本为：',x)\n",
    "    print('label为：',y)"
   ]
  },
  {
   "cell_type": "code",
   "execution_count": 2,
   "metadata": {},
   "outputs": [
    {
     "name": "stdout",
     "output_type": "stream",
     "text": [
      "13\n",
      "13\n"
     ]
    }
   ],
   "source": [
    "print(len(box_line))\n",
    "print(len(box_current_node))"
   ]
  },
  {
   "cell_type": "code",
   "execution_count": 3,
   "metadata": {},
   "outputs": [
    {
     "name": "stderr",
     "output_type": "stream",
     "text": [
      "/work/yuzhe/anaconda3/lib/python3.7/site-packages/IPython/html.py:14: ShimWarning: The `IPython.html` package has been deprecated since IPython 4.0. You should import from `notebook` instead. `IPython.html.widgets` has moved to `ipywidgets`.\n",
      "  \"`IPython.html.widgets` has moved to `ipywidgets`.\", ShimWarning)\n"
     ]
    },
    {
     "data": {
      "application/vnd.jupyter.widget-view+json": {
       "model_id": "947a0bcf12fa487bb9f6dfeb356f423e",
       "version_major": 2,
       "version_minor": 0
      },
      "text/plain": [
       "interactive(children=(IntSlider(value=6, description='i', max=12), Output()), _dom_classes=('widget-interact',…"
      ]
     },
     "metadata": {},
     "output_type": "display_data"
    }
   ],
   "source": [
    "from IPython.html.widgets import interact, interactive, fixed\n",
    "\n",
    "@interact\n",
    "def now(i=(0,len(box_line)-1,1)):\n",
    "    print(box_current_node[i])\n",
    "    print(box_line[i])\n",
    "    for node in sample:\n",
    "        plt.scatter(node[0], node[1], marker= sp(node[2]), c='gray')\n",
    "    plt.scatter(box_current_node[i][0], box_current_node[i][1], marker= sp(box_current_node[i][2]), c='yellow')\n",
    "    \n",
    "    x = np.arange(-10, 10, 0.1)\n",
    "    y = (-box_line[i][0]/box_line[i][1])*x-(box_line[i][2]/box_line[i][1])\n",
    "    plt.plot(x, y, color=\"r\")\n",
    "    \n",
    "    plt.show()\n",
    "\n",
    "    \n",
    "# %matplotlib nbagg\n",
    "\n",
    "# import numpy as np\n",
    "# import matplotlib.pyplot as plt\n",
    "# import matplotlib.animation as animation\n",
    "\n",
    "# def sp(x):\n",
    "#     if x == 1: out = 'o'\n",
    "#     else: out = 'x'\n",
    "#     return out\n",
    "\n",
    "\n",
    "# fig = plt.figure()\n",
    "# x = np.arange(-10, 10, 0.1)\n",
    "\n",
    "# ims = []\n",
    "# u2s = []\n",
    "# for node in sample:\n",
    "#     plt.scatter(node[0], node[1], marker= sp(node[2]), c='gray')\n",
    "# for i in range(len(box_line)):\n",
    "#     u2 = plt.scatter(box_current_node[i][0], box_current_node[i][1], marker= sp(box_current_node[i][2]), c='yellow')\n",
    "#     u2s.append(u2)\n",
    "#     y = (-box_line[i][0]/box_line[i][1])*x-(box_line[i][2]/box_line[i][1])\n",
    "#     im = plt.plot(x, y, color=\"r\",label=str(i))\n",
    "# #     im = plt.plot(box_current_node[i][0], box_current_node[i][1], color=\"r\")\n",
    "#     ims.append(im)\n",
    "\n",
    "    \n",
    "\n",
    "# ani = animation.ArtistAnimation(fig, ims,interval=1000,repeat_delay=1000)\n",
    "# ani2 = animation.ArtistAnimation(fig, u2s,interval=1000,repeat_delay=1000)\n",
    "# plt.show()"
   ]
  },
  {
   "cell_type": "code",
   "execution_count": null,
   "metadata": {},
   "outputs": [],
   "source": []
  }
 ],
 "metadata": {
  "kernelspec": {
   "display_name": "Python 3",
   "language": "python",
   "name": "python3"
  },
  "language_info": {
   "codemirror_mode": {
    "name": "ipython",
    "version": 3
   },
   "file_extension": ".py",
   "mimetype": "text/x-python",
   "name": "python",
   "nbconvert_exporter": "python",
   "pygments_lexer": "ipython3",
   "version": "3.7.3"
  }
 },
 "nbformat": 4,
 "nbformat_minor": 2
}
